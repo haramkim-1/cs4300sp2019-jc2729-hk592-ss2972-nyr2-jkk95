{
 "cells": [
  {
   "cell_type": "code",
   "execution_count": 31,
   "metadata": {},
   "outputs": [],
   "source": [
    "import json\n",
    "import re\n",
    "import numpy as np"
   ]
  },
  {
   "cell_type": "code",
   "execution_count": 2,
   "metadata": {},
   "outputs": [],
   "source": [
    "with open('data/data.json') as json_file:  \n",
    "    data = json.load(json_file)"
   ]
  },
  {
   "cell_type": "code",
   "execution_count": 3,
   "metadata": {},
   "outputs": [
    {
     "name": "stdout",
     "output_type": "stream",
     "text": [
      "{'reviews': [{'Review_Title': 'Orange Bimmer', 'Vehicle_Title': '2011 BMW 1 Series M Coupe 2dr Coupe (3.0L 6cyl Turbo 6M)', 'Review_Date': ' on 11/28/11 16:12 PM (PST)', 'Rating': 4.625, 'Author_Name': '330zhp ', 'Review': \" I have owned many different cars from nearly every major manufacturer and this car is, by far, the most fun to drive.It is almost as exciting to drive as the Gallardo I drove in Vegas, and this car I can actually own (and do).It is in it's break-in period, but it is still a blast to drive through back roads.Averaging about 20/21 mpg currently.\"}, {'Review_Title': 'M-power and distinctiveness for cheap', 'Vehicle_Title': '2011 BMW 1 Series M Coupe 2dr Coupe (3.0L 6cyl Turbo 6M)', 'Review_Date': ' on 11/17/11 17:44 PM (PST)', 'Rating': 4.75, 'Author_Name': 'dhwhitney ', 'Review': ' Picked up with Euro delivery in Munich, now back in states.Germans went nuts over this car (Valencia Orange probably helped!) and was great fun to drive on the Autobahn and at the Nurburgring.Traded in a 2009 M3 and I prefer this car despite the fact that Randy Pobst \"hates it!\"For people like me that have driven on the track with fast cars Porsch GT3 and the M3,eg) but are no way race drivers this car rocks.Looks have been criticized, but looks butch to me and the general public seems to agree.No auto means few posers and limited production means I have only seen one other on the street (in white).Only changes I would like:better plastics, more aggressive factory tune>'}], 'Make': 'BMW', 'Market Category': 'Factory Tuner,Luxury,High-Performance', 'Driven_Wheels': 'rear wheel drive', 'MSRP': 46135, 'highway MPG': 26, 'Year_Make_Model': '2011 BMW 1 Series M', 'Vehicle Style': 'Coupe', 'Year': 2011, 'Model': '1 Series M', 'Vehicle Size': 'Compact', 'Transmission Type': 'MANUAL', 'city mpg': 19, 'Popularity': 3916}\n"
     ]
    }
   ],
   "source": [
    "print(data[0])"
   ]
  },
  {
   "cell_type": "code",
   "execution_count": 4,
   "metadata": {},
   "outputs": [],
   "source": [
    "# This portion of code is based off of assignment 1"
   ]
  },
  {
   "cell_type": "code",
   "execution_count": 5,
   "metadata": {},
   "outputs": [],
   "source": [
    "def tokenize(text):\n",
    "    return re.findall(r'[a-z]+', text.lower())"
   ]
  },
  {
   "cell_type": "code",
   "execution_count": 6,
   "metadata": {},
   "outputs": [
    {
     "data": {
      "text/plain": [
       "\" I have owned many different cars from nearly every major manufacturer and this car is, by far, the most fun to drive.It is almost as exciting to drive as the Gallardo I drove in Vegas, and this car I can actually own (and do).It is in it's break-in period, but it is still a blast to drive through back roads.Averaging about 20/21 mpg currently.\""
      ]
     },
     "execution_count": 6,
     "metadata": {},
     "output_type": "execute_result"
    }
   ],
   "source": [
    "data[0][\"reviews\"][0][\"Review\"]"
   ]
  },
  {
   "cell_type": "code",
   "execution_count": 7,
   "metadata": {},
   "outputs": [],
   "source": [
    "def tokenize_review_method(tokenize_method,car):\n",
    "    review_text = []\n",
    "    \n",
    "    for review in car['reviews']:\n",
    "        review_text = review_text+tokenize_method(review[\"Review\"])\n",
    "    \n",
    "    return(review_text)"
   ]
  },
  {
   "cell_type": "code",
   "execution_count": 8,
   "metadata": {},
   "outputs": [],
   "source": [
    "tokenized_reviews = tokenize_review_method(tokenize,data[0])"
   ]
  },
  {
   "cell_type": "code",
   "execution_count": 9,
   "metadata": {},
   "outputs": [],
   "source": [
    "def build_word_car_count(tokenize_method,tokenize_review_method, input_data):\n",
    "    \"\"\"Returns a dictionary with the number of episodes each distinct word appears\n",
    "        Params: {tokenize_method: Function (a -> b),\n",
    "                 // Note: Below type means a function that takes two arguments, the first of which is a function.\n",
    "                 tokenize_transcript_method: Function ((Function(a -> b), c) -> d),\n",
    "                 input_transcripts: Tuple List,\n",
    "                 input_titles: Dictionary}\n",
    "        Returns: Dict\n",
    "    \"\"\"\n",
    "    # YOUR CODE HERE\n",
    "\n",
    "    car_key = {}\n",
    "    word_count = {}\n",
    "    \n",
    "\n",
    "    for car in input_data:\n",
    "        car_id = car['Year_Make_Model']\n",
    "        tokens = tokenize_review_method(tokenize_method, car)\n",
    "        tokens_set = set(tokens)\n",
    "        \n",
    "\n",
    "        car_key[car_id] = tokens_set\n",
    "            \n",
    "    for (title, words) in car_key.items():\n",
    "        for word in words:\n",
    "            if word not in word_count:\n",
    "                word_count[word] = 1\n",
    "            else:\n",
    "                word_count[word] = word_count[word] + 1\n",
    "\n",
    "    return word_count"
   ]
  },
  {
   "cell_type": "code",
   "execution_count": 12,
   "metadata": {},
   "outputs": [],
   "source": [
    "word_count = build_word_car_count(tokenize, tokenize_review_method, data[0:5])"
   ]
  },
  {
   "cell_type": "code",
   "execution_count": 16,
   "metadata": {},
   "outputs": [],
   "source": [
    "def output_good_types(input_word_counts):\n",
    "    good_types = []\n",
    "    for (word, count) in input_word_counts.items():\n",
    "        if count > 1:\n",
    "            good_types.append(word)\n",
    "    good_types.sort()\n",
    "    return good_types"
   ]
  },
  {
   "cell_type": "code",
   "execution_count": 17,
   "metadata": {},
   "outputs": [],
   "source": [
    "good_types = output_good_types(word_count)"
   ]
  },
  {
   "cell_type": "code",
   "execution_count": 18,
   "metadata": {},
   "outputs": [
    {
     "name": "stdout",
     "output_type": "stream",
     "text": [
      "['a', 'about', 'acceleration', 'actually', 'added', 'adequate', 'after', 'age', 'aggressive', 'ago', 'agree', 'all', 'almost', 'also', 'always', 'am', 'among', 'an', 'and', 'another', 'any', 'anyone', 'appearance', 'are', 'around', 'as', 'at', 'audi', 'auto', 'autobahn', 'automatic', 'averaging', 'away', 'awesome', 'back', 'bad', 'balance', 'balanced', 'be', 'because', 'been', 'before', 'being', 'best', 'better', 'between', 'big', 'bigger', 'bit', 'black', 'blast', 'bmw', 'bought', 'break', 'but', 'butch', 'buy', 'by', 'cabin', 'came', 'can', 'car', 'care', 'cars', 'certified', 'change', 'changes', 'cheap', 'choice', 'close', 'clutch', 'combination', 'combined', 'come', 'comfortable', 'comfy', 'compact', 'company', 'convenience', 'convertible', 'cost', 'costs', 'could', 'couldn', 'coupe', 'coupes', 'criticized', 'currently', 'cylinder', 'daily', 'day', 'days', 'dct', 'dealer', 'decision', 'delivery', 'despite', 'did', 'different', 'difficult', 'do', 'does', 'don', 'done', 'down', 'drive', 'driven', 'driver', 'drivers', 'driving', 'drove', 'due', 'e', 'easy', 'eg', 'electric', 'engine', 'engines', 'enjoy', 'enjoyed', 'enthusiasts', 'entry', 'etc', 'euro', 'even', 'ever', 'every', 'everyone', 'everything', 'excellent', 'exciting', 'exhaust', 'expensive', 'experience', 'extras', 'fact', 'factory', 'fan', 'far', 'fast', 'favorite', 'feel', 'feels', 'felt', 'few', 'find', 'first', 'fit', 'fixed', 'flat', 'flats', 'for', 'found', 'from', 'front', 'ft', 'full', 'fun', 'gallardo', 'gas', 'gear', 'general', 'germans', 'get', 'getting', 'given', 'gives', 'go', 'good', 'got', 'great', 'gt', 'guess', 'had', 'handles', 'handling', 'happy', 'has', 'hates', 'have', 'having', 'heart', 'help', 'helped', 'high', 'highly', 'hit', 'hold', 'horrible', 'hp', 'huge', 'i', 'if', 'impressed', 'in', 'incredibly', 'inline', 'interior', 'into', 'intuitive', 'is', 'issue', 'issues', 'it', 'its', 'japanese', 'just', 'k', 'kept', 'kids', 'kind', 'lag', 'lease', 'least', 'less', 'level', 'light', 'like', 'limited', 'line', 'little', 'long', 'longer', 'looked', 'looking', 'looks', 'lost', 'lot', 'lots', 'love', 'luxury', 'm', 'made', 'maintenance', 'major', 'make', 'makes', 'manual', 'manufacturer', 'many', 'market', 'may', 'maybe', 'me', 'means', 'meant', 'mercedes', 'miata', 'mileage', 'miles', 'miss', 'mode', 'model', 'money', 'month', 'months', 'more', 'most', 'move', 'mpg', 'much', 'munich', 'my', 'navigation', 'nd', 'nearly', 'need', 'needs', 'never', 'new', 'nice', 'nimble', 'no', 'none', 'normal', 'not', 'nothing', 'now', 'number', 'nurburgring', 'nuts', 'of', 'off', 'often', 'ok', 'old', 'on', 'one', 'only', 'options', 'or', 'orange', 'other', 'out', 'over', 'overall', 'own', 'owned', 'package', 'part', 'passengers', 'pedal', 'people', 'perfect', 'perfectly', 'performance', 'period', 'phone', 'picked', 'place', 'plain', 'plan', 'plastics', 'pleasure', 'pobst', 'porsch', 'posers', 'possible', 'power', 'powerful', 'practical', 'prefer', 'premium', 'pretty', 'previously', 'price', 'probably', 'problem', 'production', 'provide', 'public', 'purchase', 'purchased', 'put', 'quality', 'quick', 'quiet', 'quieter', 'race', 'randy', 'range', 'rarely', 'real', 'really', 'recommend', 'red', 'regular', 'reliability', 'research', 'responsive', 'review', 'ride', 'right', 'ripped', 'road', 'roads', 'rocks', 'room', 'rough', 'run', 'running', 's', 'same', 'say', 'seat', 'seats', 'second', 'sedan', 'seems', 'seen', 'series', 'shift', 'shifting', 'shop', 'shopped', 'short', 'should', 'silky', 'simply', 'since', 'situations', 'six', 'size', 'slap', 'small', 'smooth', 'so', 'soft', 'software', 'sold', 'solid', 'some', 'someone', 'something', 'somewhat', 'sounds', 'space', 'speed', 'speeds', 'sport', 'sports', 'sporty', 'standard', 'start', 'states', 'steering', 'step', 'sticker', 'still', 'stop', 'street', 'styling', 'such', 'super', 'superb', 'suspension', 'system', 't', 'take', 'takes', 'ten', 'test', 'than', 'that', 'the', 'them', 'then', 'there', 'these', 'they', 'thing', 'things', 'think', 'this', 'those', 'thought', 'three', 'through', 'time', 'tires', 'to', 'too', 'took', 'top', 'torque', 'track', 'traded', 'traffic', 'transmission', 'trim', 'trips', 'true', 'trunk', 'trying', 'tune', 'turbo', 'two', 'typical', 'under', 'up', 'use', 'useable', 'used', 'using', 'valencia', 'value', 've', 'vegas', 'vehicle', 'vehicles', 'very', 'waiting', 'want', 'wanted', 'was', 'way', 'we', 'week', 'weeks', 'well', 'went', 'what', 'wheel', 'when', 'where', 'which', 'while', 'white', 'who', 'will', 'windows', 'with', 'without', 'won', 'wonderful', 'work', 'works', 'worth', 'would', 'wrong', 'year', 'years', 'yes', 'you', 'z']\n"
     ]
    }
   ],
   "source": [
    "print(good_types)"
   ]
  },
  {
   "cell_type": "code",
   "execution_count": 19,
   "metadata": {},
   "outputs": [],
   "source": [
    "def create_unique_cars_list(data):\n",
    "    cars_list = []\n",
    "    for car in data:\n",
    "        cars_list.append(car['Year_Make_Model'])\n",
    "    return cars_list\n",
    "        "
   ]
  },
  {
   "cell_type": "code",
   "execution_count": 27,
   "metadata": {},
   "outputs": [],
   "source": [
    "unique_cars = create_unique_cars_list(data)"
   ]
  },
  {
   "cell_type": "code",
   "execution_count": 28,
   "metadata": {},
   "outputs": [],
   "source": [
    "cars_reverse_index = {car: i for i, car in enumerate(unique_cars)}"
   ]
  },
  {
   "cell_type": "code",
   "execution_count": 42,
   "metadata": {},
   "outputs": [],
   "source": [
    "def create_word_occurrence_matrix(\n",
    "    tokenize_method,\n",
    "    input_data,\n",
    "    input_cars,\n",
    "    input_good_types):\n",
    "    \"\"\"Returns a numpy array of shape n_speakers by n_good_types such that the \n",
    "    entry (ij) indicates how often speaker i says word j.\n",
    "    \n",
    "    Params: {tokenize_method: Function (a -> b),\n",
    "             input_transcripts: Tuple,\n",
    "             input_speakers: List,\n",
    "             input_good_types: List}\n",
    "    Returns: Numpy Array\n",
    "    \"\"\"\n",
    "    # YOUR CODE HERE\n",
    "    word_occurrence = np.zeros((len(input_cars), len(input_good_types)))\n",
    "    for car in input_data:\n",
    "        car_index = cars_reverse_index[car['Year_Make_Model']]\n",
    "        reviews = car['reviews']\n",
    "        for review in reviews:\n",
    "            review_text = tokenize_method(review['Review'])\n",
    "            for word in review_text:\n",
    "                if word in input_good_types:\n",
    "                    word_occurrence[car_index, input_good_types.index(word)] = word_occurrence[car_index, input_good_types.index(word)] + 1\n",
    "    return word_occurrence\n",
    "    \n"
   ]
  },
  {
   "cell_type": "code",
   "execution_count": 43,
   "metadata": {},
   "outputs": [
    {
     "data": {
      "text/plain": [
       "array([[  2.,   1.,   0., ...,   0.,   0.,   0.],\n",
       "       [105.,   9.,   1., ...,   0.,  19.,   5.],\n",
       "       [ 60.,   4.,   3., ...,   1.,   9.,   0.],\n",
       "       ...,\n",
       "       [  0.,   0.,   0., ...,   0.,   0.,   0.],\n",
       "       [  0.,   0.,   0., ...,   0.,   0.,   0.],\n",
       "       [  0.,   0.,   0., ...,   0.,   0.,   0.]])"
      ]
     },
     "execution_count": 43,
     "metadata": {},
     "output_type": "execute_result"
    }
   ],
   "source": [
    "create_word_occurrence_matrix(tokenize, data[0:5], unique_cars, good_types)"
   ]
  },
  {
   "cell_type": "code",
   "execution_count": null,
   "metadata": {},
   "outputs": [],
   "source": []
  }
 ],
 "metadata": {
  "kernelspec": {
   "display_name": "venv",
   "language": "python",
   "name": "venv"
  },
  "language_info": {
   "codemirror_mode": {
    "name": "ipython",
    "version": 3
   },
   "file_extension": ".py",
   "mimetype": "text/x-python",
   "name": "python",
   "nbconvert_exporter": "python",
   "pygments_lexer": "ipython3",
   "version": "3.5.2"
  }
 },
 "nbformat": 4,
 "nbformat_minor": 2
}
